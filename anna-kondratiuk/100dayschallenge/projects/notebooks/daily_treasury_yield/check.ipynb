{
 "metadata": {
  "language_info": {
   "codemirror_mode": {
    "name": "ipython",
    "version": 3
   },
   "file_extension": ".py",
   "mimetype": "text/x-python",
   "name": "python",
   "nbconvert_exporter": "python",
   "pygments_lexer": "ipython3",
   "version": "3.8.5-final"
  },
  "orig_nbformat": 2,
  "kernelspec": {
   "name": "python3",
   "display_name": "Python 3",
   "language": "python"
  }
 },
 "nbformat": 4,
 "nbformat_minor": 2,
 "cells": [
  {
   "source": [
    "\"Daily treasury Yield \"\n",
    "\n",
    "resources\n",
    " \"REsources: \\n\",\n",
    "    \"Scraping and looping multipages: https://medium.com/better-programming/how-to-scrape-multiple-pages-of-a-website-using-a-python-web-scraper-4e2c641cff8\\n\",\n",
    "    \"Plotly line: https://plotly.com/python/line-charts/\\n\"\n"
   ],
   "cell_type": "markdown",
   "metadata": {}
  },
  {
   "cell_type": "code",
   "execution_count": 2,
   "metadata": {},
   "outputs": [],
   "source": [
    "##Requirements\n",
    "import requests\n",
    "import pandas as pd\n",
    "import numpy as np\n",
    "import matplotlib.pyplot as plt\n",
    "import plotly.express as px\n",
    "import plotly.graph_objects as go\n",
    "from datetime import datetime, timedelta\n",
    "from matplotlib.backends.backend_agg import FigureCanvasAgg as FugureCanvas\n",
    "from matplotlib.figure import Figure\n",
    "from urllib.request import urlopen as uReq\n",
    "from bs4 import BeautifulSoup as soup"
   ]
  },
  {
   "cell_type": "code",
   "execution_count": 3,
   "metadata": {},
   "outputs": [],
   "source": [
    "##Get Data\n",
    "    #1 - build scraping tool\n",
    "    #   - save the file\n",
    "    #2 build interactive graph like here https://ycharts.com/indicators/10_year_treasury_rate\n",
    "    #3 - organise notebook\n",
    "    #4 - push to github"
   ]
  },
  {
   "cell_type": "code",
   "execution_count": 7,
   "metadata": {},
   "outputs": [],
   "source": [
    "# scaper\n",
    "    # add more data beyond one months\n",
    "    \n",
    "    #the data needed for this project is written in java, table is text based type\n",
    "    #specify the URL \n",
    "treasury_url = 'https://www.treasury.gov/resource-center/data-chart-center/interest-rates/Pages/TextView.aspx?data=yield'\n",
    "    \n",
    "    #opening up connection, grabbing the page\n",
    "uClient= uReq(treasury_url)\n",
    "    \n",
    "    #offload the page into a variable\n",
    "page_html= uClient.read()\n",
    "    \n",
    "    #save file\n",
    "    \n",
    "    #close connection\n",
    "uClient.close()\n",
    "    \n",
    "    # parse the html using beautiful soup and store in variable 'soup'\n",
    "    #page_soup= soup(page_html, \\\"html.parser\\\")\n",
    "    \n",
    "    \n",
    "#datachart= page_soup.findAll(\"table\",{\"class\":\"t-chart\"})"
   ]
  },
  {
   "cell_type": "code",
   "execution_count": null,
   "metadata": {},
   "outputs": [],
   "source": [
    "    data_list = pd.read_html( treasury_url)\n",
    "    data_list=(data_list[1])\n",
    "    \n",
    "    #convert object 'Date' column to date column\n",
    "    convert_date=data_list.astype({'Date':'datetime64'})\n",
    "    \n",
    "    convert_date.to_csv('daily treasure yield')\n",
    "    daily_treasure=pd.read_csv('daily treasure yield')\n",
    "    print(daily_treasure)"
   ]
  },
  {
   "cell_type": "code",
   "execution_count": 15,
   "metadata": {},
   "outputs": [
    {
     "output_type": "error",
     "ename": "SyntaxError",
     "evalue": "unexpected EOF while parsing (<ipython-input-15-8d80d64970d2>, line 22)",
     "traceback": [
      "\u001b[0;36m  File \u001b[0;32m\"<ipython-input-15-8d80d64970d2>\"\u001b[0;36m, line \u001b[0;32m22\u001b[0m\n\u001b[0;31m    fig.show()\u001b[0m\n\u001b[0m              ^\u001b[0m\n\u001b[0;31mSyntaxError\u001b[0m\u001b[0;31m:\u001b[0m unexpected EOF while parsing\n"
     ]
    }
   ],
   "source": [
    "daily_treasure.columns\n",
    "y_columns= ['1 mo', '2 mo', '3 mo', '6 mo', '1 yr', '2 yr', '3 yr', '5 yr',\n",
    "           '7 yr', '10 yr', '20 yr', '30 yr']\n",
    "    \n",
    "fig = px.line(daily_treasure, x='Date', title='Daily Treasury Yield Curve Rates')\n",
    "fig.update_layout(title_x=0.5, yaxis=dict(tick0 = 0.2, dtick = 2.5))\n",
    "\n",
    "    #crete custom buttons which show only one valiable at the time \n",
    "    #make sure there is no variables on the side\n",
    "    #converst value to 0.00%\\n\",\n",
    "    \n",
    "fig.update_xaxes(\n",
    "    rangeslider_visible=True,\n",
    "        rangeselector=dict(\n",
    "            buttons=list([\n",
    "                dict(count=1, label=\"Today\", step=\"day\", stepmode=\"todate\"),\n",
    "                dict(count=1, label=\"1m\", step=\"month\", stepmode=\"backward\"),\n",
    "                dict(count=6, label=\"6m\", step=\"month\", stepmode=\"backward\"),\n",
    "                dict(count=1, label=\"1y\", step=\"year\", stepmode=\"backward\"),\n",
    "                dict(step=\"all\"),\n",
    "    \n",
    "fig.show()"
   ]
  },
  {
   "cell_type": "code",
   "execution_count": null,
   "metadata": {},
   "outputs": [],
   "source": []
  }
 ]
}