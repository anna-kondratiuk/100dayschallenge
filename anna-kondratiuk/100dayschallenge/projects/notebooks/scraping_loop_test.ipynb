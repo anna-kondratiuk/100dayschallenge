{
 "metadata": {
  "language_info": {
   "codemirror_mode": {
    "name": "ipython",
    "version": 3
   },
   "file_extension": ".py",
   "mimetype": "text/x-python",
   "name": "python",
   "nbconvert_exporter": "python",
   "pygments_lexer": "ipython3",
   "version": "3.8.5-final"
  },
  "orig_nbformat": 2,
  "kernelspec": {
   "name": "python3",
   "display_name": "Python 3",
   "language": "python"
  }
 },
 "nbformat": 4,
 "nbformat_minor": 2,
 "cells": [
  {
   "cell_type": "code",
   "execution_count": 15,
   "metadata": {},
   "outputs": [
    {
     "output_type": "stream",
     "name": "stdout",
     "text": [
      "     Unnamed: 0        Date  1 mo  2 mo  3 mo  6 mo  1 yr  2 yr  3 yr  5 yr  \\\n0             0  2020-01-02  1.53  1.55  1.54  1.57  1.56  1.58  1.59  1.67   \n1             1  2020-01-03  1.52  1.55  1.52  1.55  1.55  1.53  1.54  1.59   \n2             2  2020-01-06  1.54  1.54  1.56  1.56  1.54  1.54  1.56  1.61   \n3             3  2020-01-07  1.52  1.53  1.54  1.56  1.53  1.54  1.55  1.62   \n4             4  2020-01-08  1.50  1.53  1.54  1.56  1.55  1.58  1.61  1.67   \n..          ...         ...   ...   ...   ...   ...   ...   ...   ...   ...   \n246         246  2020-12-24  0.09  0.09  0.09  0.09  0.10  0.13  0.17  0.37   \n247         247  2020-12-28  0.09  0.10  0.11  0.11  0.11  0.13  0.17  0.38   \n248         248  2020-12-29  0.08  0.09  0.10  0.12  0.11  0.12  0.17  0.37   \n249         249  2020-12-30  0.06  0.06  0.08  0.09  0.12  0.12  0.17  0.37   \n250         250  2020-12-31  0.08  0.08  0.09  0.09  0.10  0.13  0.17  0.36   \n\n     7 yr  10 yr  20 yr  30 yr  \n0    1.79   1.88   2.19   2.33  \n1    1.71   1.80   2.11   2.26  \n2    1.72   1.81   2.13   2.28  \n3    1.74   1.83   2.16   2.31  \n4    1.78   1.87   2.21   2.35  \n..    ...    ...    ...    ...  \n246  0.66   0.94   1.46   1.66  \n247  0.65   0.94   1.46   1.67  \n248  0.66   0.94   1.47   1.67  \n249  0.66   0.93   1.46   1.66  \n250  0.65   0.93   1.45   1.65  \n\n[251 rows x 14 columns]\n"
     ]
    }
   ],
   "source": [
    "# scaper \n",
    "# add more data beyond one months\n",
    "\n",
    "\n",
    "#the data needed for this project is written in java, table is text based type\n",
    "#specify the URL \n",
    "treasury_url = 'https://www.treasury.gov/resource-center/data-chart-center/interest-rates/pages/TextView.aspx?data=yieldYear&year=2020'\n",
    "\n",
    "#opening up connection, grabbing the page\n",
    "uClient= uReq(treasury_url)\n",
    "\n",
    "#offload the page into a variable\n",
    "page_html= uClient.read()\n",
    "\n",
    "\n",
    "#close connection\n",
    "uClient.close()\n",
    "\n",
    "# parse the html using beautiful soup and store in variable 'soup'\n",
    "#page_soup= soup(page_html, \"html.parser\")\n",
    "\n",
    "\n",
    "data_list = pd.read_html( treasury_url)\n",
    "data_list=(data_list[1])\n",
    "\n",
    "#convert object 'Date' column to date column\n",
    "convert_date=data_list.astype({'Date':'datetime64'})\n",
    "\n",
    "#convert data into csv\n",
    "convert_date.to_csv('daily treasure yield')\n",
    "#save file \n",
    "daily_treasure=pd.read_csv('daily treasure yield')\n",
    "\n",
    "print(daily_treasure)"
   ]
  },
  {
   "cell_type": "code",
   "execution_count": 4,
   "metadata": {},
   "outputs": [],
   "source": [
    "\n",
    "import requests\n",
    "import pandas as pd\n",
    "import numpy as np\n",
    "import matplotlib.pyplot as plt\n",
    "import plotly.express as px\n",
    "import plotly.graph_objects as go\n",
    "from datetime import datetime, timedelta\n",
    " \n",
    "from matplotlib.backends.backend_agg import FigureCanvasAgg as FugureCanvas\n",
    "from matplotlib.figure import Figure\n",
    "from urllib.request import urlopen as uReq\n",
    "from bs4 import BeautifulSoup as soup\n",
    "import urllib.request"
   ]
  },
  {
   "cell_type": "code",
   "execution_count": 10,
   "metadata": {},
   "outputs": [
    {
     "output_type": "error",
     "ename": "AttributeError",
     "evalue": "'Response' object has no attribute 'type'",
     "traceback": [
      "\u001b[0;31m---------------------------------------------------------------------------\u001b[0m",
      "\u001b[0;31mAttributeError\u001b[0m                            Traceback (most recent call last)",
      "\u001b[0;32m<ipython-input-10-db957f801501>\u001b[0m in \u001b[0;36m<module>\u001b[0;34m\u001b[0m\n\u001b[1;32m      8\u001b[0m   \u001b[0mtreasury_url\u001b[0m \u001b[0;34m=\u001b[0m \u001b[0mrequests\u001b[0m\u001b[0;34m.\u001b[0m\u001b[0mget\u001b[0m\u001b[0;34m(\u001b[0m\u001b[0;34m\"https://www.treasury.gov/resource-center/data-chart-center/interest-rates/pages/TextView.aspx?data=yieldYear&year=\"\u001b[0m \u001b[0;34m+\u001b[0m \u001b[0mstr\u001b[0m\u001b[0;34m(\u001b[0m\u001b[0mtreasury_url\u001b[0m\u001b[0;34m)\u001b[0m \u001b[0;34m+\u001b[0m \u001b[0;34m\"&ref_=adv_nxt\"\u001b[0m\u001b[0;34m)\u001b[0m\u001b[0;34m\u001b[0m\u001b[0;34m\u001b[0m\u001b[0m\n\u001b[1;32m      9\u001b[0m \u001b[0;34m\u001b[0m\u001b[0m\n\u001b[0;32m---> 10\u001b[0;31m   \u001b[0mpage\u001b[0m\u001b[0;34m=\u001b[0m \u001b[0murllib\u001b[0m\u001b[0;34m.\u001b[0m\u001b[0mrequest\u001b[0m\u001b[0;34m.\u001b[0m\u001b[0murlopen\u001b[0m\u001b[0;34m(\u001b[0m\u001b[0mtreasury_url\u001b[0m\u001b[0;34m)\u001b[0m\u001b[0;34m\u001b[0m\u001b[0;34m\u001b[0m\u001b[0m\n\u001b[0m\u001b[1;32m     11\u001b[0m   \u001b[0;31m#page_html= uClient.read()\u001b[0m\u001b[0;34m\u001b[0m\u001b[0;34m\u001b[0m\u001b[0;34m\u001b[0m\u001b[0m\n\u001b[1;32m     12\u001b[0m   \u001b[0mparse_html\u001b[0m \u001b[0;34m=\u001b[0m \u001b[0msoup\u001b[0m\u001b[0;34m(\u001b[0m\u001b[0mpage\u001b[0m\u001b[0;34m,\u001b[0m \u001b[0;34m'html.parser'\u001b[0m\u001b[0;34m)\u001b[0m\u001b[0;34m\u001b[0m\u001b[0;34m\u001b[0m\u001b[0m\n",
      "\u001b[0;32m/usr/lib/python3.8/urllib/request.py\u001b[0m in \u001b[0;36murlopen\u001b[0;34m(url, data, timeout, cafile, capath, cadefault, context)\u001b[0m\n\u001b[1;32m    220\u001b[0m     \u001b[0;32melse\u001b[0m\u001b[0;34m:\u001b[0m\u001b[0;34m\u001b[0m\u001b[0;34m\u001b[0m\u001b[0m\n\u001b[1;32m    221\u001b[0m         \u001b[0mopener\u001b[0m \u001b[0;34m=\u001b[0m \u001b[0m_opener\u001b[0m\u001b[0;34m\u001b[0m\u001b[0;34m\u001b[0m\u001b[0m\n\u001b[0;32m--> 222\u001b[0;31m     \u001b[0;32mreturn\u001b[0m \u001b[0mopener\u001b[0m\u001b[0;34m.\u001b[0m\u001b[0mopen\u001b[0m\u001b[0;34m(\u001b[0m\u001b[0murl\u001b[0m\u001b[0;34m,\u001b[0m \u001b[0mdata\u001b[0m\u001b[0;34m,\u001b[0m \u001b[0mtimeout\u001b[0m\u001b[0;34m)\u001b[0m\u001b[0;34m\u001b[0m\u001b[0;34m\u001b[0m\u001b[0m\n\u001b[0m\u001b[1;32m    223\u001b[0m \u001b[0;34m\u001b[0m\u001b[0m\n\u001b[1;32m    224\u001b[0m \u001b[0;32mdef\u001b[0m \u001b[0minstall_opener\u001b[0m\u001b[0;34m(\u001b[0m\u001b[0mopener\u001b[0m\u001b[0;34m)\u001b[0m\u001b[0;34m:\u001b[0m\u001b[0;34m\u001b[0m\u001b[0;34m\u001b[0m\u001b[0m\n",
      "\u001b[0;32m/usr/lib/python3.8/urllib/request.py\u001b[0m in \u001b[0;36mopen\u001b[0;34m(self, fullurl, data, timeout)\u001b[0m\n\u001b[1;32m    514\u001b[0m \u001b[0;34m\u001b[0m\u001b[0m\n\u001b[1;32m    515\u001b[0m         \u001b[0mreq\u001b[0m\u001b[0;34m.\u001b[0m\u001b[0mtimeout\u001b[0m \u001b[0;34m=\u001b[0m \u001b[0mtimeout\u001b[0m\u001b[0;34m\u001b[0m\u001b[0;34m\u001b[0m\u001b[0m\n\u001b[0;32m--> 516\u001b[0;31m         \u001b[0mprotocol\u001b[0m \u001b[0;34m=\u001b[0m \u001b[0mreq\u001b[0m\u001b[0;34m.\u001b[0m\u001b[0mtype\u001b[0m\u001b[0;34m\u001b[0m\u001b[0;34m\u001b[0m\u001b[0m\n\u001b[0m\u001b[1;32m    517\u001b[0m \u001b[0;34m\u001b[0m\u001b[0m\n\u001b[1;32m    518\u001b[0m         \u001b[0;31m# pre-process request\u001b[0m\u001b[0;34m\u001b[0m\u001b[0;34m\u001b[0m\u001b[0;34m\u001b[0m\u001b[0m\n",
      "\u001b[0;31mAttributeError\u001b[0m: 'Response' object has no attribute 'type'"
     ]
    }
   ],
   "source": [
    "#scraping loop \n",
    "\n",
    "pages = np.arange(2002, 2022 , 1) #start, stop, step\n",
    "table=[]\n",
    "\n",
    "for treasury_url in pages: \n",
    "  \n",
    "  treasury_url = requests.get(\"https://www.treasury.gov/resource-center/data-chart-center/interest-rates/pages/TextView.aspx?data=yieldYear&year=\" + str(treasury_url) + \"&ref_=adv_nxt\")\n",
    "  \n",
    "  page= urllib.request.urlopen(treasury_url)\n",
    "  #page_html= uClient.read()\n",
    "  parse_html = soup(page, 'html.parser')\n",
    "   \n",
    "  #sleep(randint(2,10))\n",
    "\n",
    "  data_list[1] =read_page.find.all(treasury_url)\n",
    "  temp=(data_list[1])\n",
    "  #data_list_true += temp\n",
    "\n",
    "print(temp)"
   ]
  },
  {
   "cell_type": "code",
   "execution_count": null,
   "metadata": {},
   "outputs": [],
   "source": []
  }
 ]
}